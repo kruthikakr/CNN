{
 "cells": [
  {
   "cell_type": "markdown",
   "metadata": {},
   "source": [
    "# Softmax exercise\n",
    "\n",
    "*Complete and hand in this completed worksheet (including its outputs and any supporting code outside of the worksheet) with your assignment submission. For more details see the [assignments page](http://vision.stanford.edu/teaching/cs231n/assignments.html) on the course website.*\n",
    "\n",
    "This exercise is analogous to the SVM exercise. You will:\n",
    "\n",
    "- implement a fully-vectorized **loss function** for the Softmax classifier\n",
    "- implement the fully-vectorized expression for its **analytic gradient**\n",
    "- **check your implementation** with numerical gradient\n",
    "- use a validation set to **tune the learning rate and regularization** strength\n",
    "- **optimize** the loss function with **SGD**\n",
    "- **visualize** the final learned weights\n"
   ]
  },
  {
   "cell_type": "code",
   "execution_count": 3,
   "metadata": {},
   "outputs": [
    {
     "name": "stdout",
     "output_type": "stream",
     "text": [
      "The autoreload extension is already loaded. To reload it, use:\n",
      "  %reload_ext autoreload\n"
     ]
    }
   ],
   "source": [
    "import random\n",
    "import numpy as np\n",
    "from cs231n.data_utils import load_CIFAR10\n",
    "import matplotlib.pyplot as plt\n",
    "\n",
    "from __future__ import print_function\n",
    "\n",
    "%matplotlib inline\n",
    "plt.rcParams['figure.figsize'] = (10.0, 8.0) # set default size of plots\n",
    "plt.rcParams['image.interpolation'] = 'nearest'\n",
    "plt.rcParams['image.cmap'] = 'gray'\n",
    "\n",
    "# for auto-reloading extenrnal modules\n",
    "# see http://stackoverflow.com/questions/1907993/autoreload-of-modules-in-ipython\n",
    "%load_ext autoreload\n",
    "%autoreload 2"
   ]
  },
  {
   "cell_type": "code",
   "execution_count": 4,
   "metadata": {},
   "outputs": [
    {
     "name": "stdout",
     "output_type": "stream",
     "text": [
      "Train data shape:  (49000, 3073)\n",
      "Train labels shape:  (49000,)\n",
      "Validation data shape:  (1000, 3073)\n",
      "Validation labels shape:  (1000,)\n",
      "Test data shape:  (1000, 3073)\n",
      "Test labels shape:  (1000,)\n",
      "dev data shape:  (500, 3073)\n",
      "dev labels shape:  (500,)\n"
     ]
    }
   ],
   "source": [
    "def get_CIFAR10_data(num_training=49000, num_validation=1000, num_test=1000, num_dev=500):\n",
    "    \"\"\"\n",
    "    Load the CIFAR-10 dataset from disk and perform preprocessing to prepare\n",
    "    it for the linear classifier. These are the same steps as we used for the\n",
    "    SVM, but condensed to a single function.  \n",
    "    \"\"\"\n",
    "    # Load the raw CIFAR-10 data\n",
    "    cifar10_dir = 'cs231n/datasets/cifar-10-batches-py'\n",
    "    \n",
    "    X_train, y_train, X_test, y_test = load_CIFAR10(cifar10_dir)\n",
    "    \n",
    "    # subsample the data\n",
    "    mask = list(range(num_training, num_training + num_validation))\n",
    "    X_val = X_train[mask]\n",
    "    y_val = y_train[mask]\n",
    "    mask = list(range(num_training))\n",
    "    X_train = X_train[mask]\n",
    "    y_train = y_train[mask]\n",
    "    mask = list(range(num_test))\n",
    "    X_test = X_test[mask]\n",
    "    y_test = y_test[mask]\n",
    "    mask = np.random.choice(num_training, num_dev, replace=False)\n",
    "    X_dev = X_train[mask]\n",
    "    y_dev = y_train[mask]\n",
    "    \n",
    "    # Preprocessing: reshape the image data into rows\n",
    "    X_train = np.reshape(X_train, (X_train.shape[0], -1))\n",
    "    X_val = np.reshape(X_val, (X_val.shape[0], -1))\n",
    "    X_test = np.reshape(X_test, (X_test.shape[0], -1))\n",
    "    X_dev = np.reshape(X_dev, (X_dev.shape[0], -1))\n",
    "    \n",
    "    # Normalize the data: subtract the mean image\n",
    "    mean_image = np.mean(X_train, axis = 0)\n",
    "    X_train -= mean_image\n",
    "    X_val -= mean_image\n",
    "    X_test -= mean_image\n",
    "    X_dev -= mean_image\n",
    "    \n",
    "    # add bias dimension and transform into columns\n",
    "    X_train = np.hstack([X_train, np.ones((X_train.shape[0], 1))])\n",
    "    X_val = np.hstack([X_val, np.ones((X_val.shape[0], 1))])\n",
    "    X_test = np.hstack([X_test, np.ones((X_test.shape[0], 1))])\n",
    "    X_dev = np.hstack([X_dev, np.ones((X_dev.shape[0], 1))])\n",
    "    \n",
    "    return X_train, y_train, X_val, y_val, X_test, y_test, X_dev, y_dev\n",
    "\n",
    "\n",
    "# Cleaning up variables to prevent loading data multiple times (which may cause memory issue)\n",
    "try:\n",
    "   del X_train, y_train\n",
    "   del X_test, y_test\n",
    "   print('Clear previously loaded data.')\n",
    "except:\n",
    "   pass\n",
    "\n",
    "# Invoke the above function to get our data.\n",
    "X_train, y_train, X_val, y_val, X_test, y_test, X_dev, y_dev = get_CIFAR10_data()\n",
    "print('Train data shape: ', X_train.shape)\n",
    "print('Train labels shape: ', y_train.shape)\n",
    "print('Validation data shape: ', X_val.shape)\n",
    "print('Validation labels shape: ', y_val.shape)\n",
    "print('Test data shape: ', X_test.shape)\n",
    "print('Test labels shape: ', y_test.shape)\n",
    "print('dev data shape: ', X_dev.shape)\n",
    "print('dev labels shape: ', y_dev.shape)"
   ]
  },
  {
   "cell_type": "markdown",
   "metadata": {},
   "source": [
    "## Softmax Classifier\n",
    "\n",
    "Your code for this section will all be written inside **cs231n/classifiers/softmax.py**. \n"
   ]
  },
  {
   "cell_type": "code",
   "execution_count": 61,
   "metadata": {},
   "outputs": [
    {
     "name": "stdout",
     "output_type": "stream",
     "text": [
      "loss: 2.368553\n",
      "sanity check: 2.302585\n"
     ]
    }
   ],
   "source": [
    "# First implement the naive softmax loss function with nested loops.\n",
    "# Open the file cs231n/classifiers/softmax.py and implement the\n",
    "# softmax_loss_naive function.\n",
    "\n",
    "from cs231n.classifiers.softmax import softmax_loss_naive\n",
    "import time\n",
    "\n",
    "# Generate a random softmax weight matrix and use it to compute the loss.\n",
    "W = np.random.randn(3073, 10) * 0.0001\n",
    "loss, grad = softmax_loss_naive(W, X_dev, y_dev, 0.0)\n",
    "\n",
    "# As a rough sanity check, our loss should be something close to -log(0.1).\n",
    "print('loss: %f' % loss)\n",
    "print('sanity check: %f' % (-np.log(0.1)))"
   ]
  },
  {
   "cell_type": "markdown",
   "metadata": {},
   "source": [
    "## Inline Question 1:\n",
    "Why do we expect our loss to be close to -log(0.1)? Explain briefly.**\n",
    "\n",
    "**Your answer:** In CIFAR10 dataset, we have 10 different classes. By randoming Weight data, we have probability of getting 1  in 10 correct. As per information theory, loss is p(x)log(q(x)) which for every image would be -log(0.1)\n"
   ]
  },
  {
   "cell_type": "code",
   "execution_count": 63,
   "metadata": {},
   "outputs": [
    {
     "name": "stdout",
     "output_type": "stream",
     "text": [
      "numerical: -0.935598 analytic: -0.935599, relative error: 2.651042e-08\n",
      "numerical: -1.127392 analytic: -1.127392, relative error: 4.575871e-08\n",
      "numerical: 0.009603 analytic: 0.009603, relative error: 5.577079e-07\n",
      "numerical: -1.290149 analytic: -1.290149, relative error: 2.226973e-08\n",
      "numerical: 1.573774 analytic: 1.573774, relative error: 2.218342e-08\n",
      "numerical: -2.307808 analytic: -2.307807, relative error: 1.081056e-08\n",
      "numerical: 1.104620 analytic: 1.104620, relative error: 4.123655e-08\n",
      "numerical: -2.081428 analytic: -2.081428, relative error: 9.186585e-09\n",
      "numerical: -2.036900 analytic: -2.036900, relative error: 2.028528e-08\n",
      "numerical: 1.296886 analytic: 1.296886, relative error: 2.123074e-08\n",
      "numerical: -0.669035 analytic: -0.669035, relative error: 2.974205e-08\n",
      "numerical: -2.602389 analytic: -2.602389, relative error: 7.252547e-09\n",
      "numerical: -4.076079 analytic: -4.076079, relative error: 2.490384e-08\n",
      "numerical: 0.310976 analytic: 0.310976, relative error: 5.395457e-08\n",
      "numerical: -0.242582 analytic: -0.242582, relative error: 1.996075e-07\n",
      "numerical: -0.134762 analytic: -0.134762, relative error: 4.172057e-07\n",
      "numerical: 0.505739 analytic: 0.505739, relative error: 1.100658e-08\n",
      "numerical: 1.006731 analytic: 1.006730, relative error: 4.723879e-08\n",
      "numerical: 0.420179 analytic: 0.420179, relative error: 3.488572e-08\n",
      "numerical: 1.365159 analytic: 1.365159, relative error: 1.535903e-08\n"
     ]
    }
   ],
   "source": [
    "# Complete the implementation of softmax_loss_naive and implement a (naive)\n",
    "# version of the gradient that uses nested loops.\n",
    "loss, grad = softmax_loss_naive(W, X_dev, y_dev, 0.0)\n",
    "\n",
    "# As we did for the SVM, use numeric gradient checking as a debugging tool.\n",
    "# The numeric gradient should be close to the analytic gradient.\n",
    "from cs231n.gradient_check import grad_check_sparse\n",
    "f = lambda w: softmax_loss_naive(w, X_dev, y_dev, 0.0)[0]\n",
    "grad_numerical = grad_check_sparse(f, W, grad, 10)\n",
    "\n",
    "# similar to SVM case, do another gradient check with regularization\n",
    "loss, grad = softmax_loss_naive(W, X_dev, y_dev, 5e1)\n",
    "f = lambda w: softmax_loss_naive(w, X_dev, y_dev, 5e1)[0]\n",
    "grad_numerical = grad_check_sparse(f, W, grad, 10)"
   ]
  },
  {
   "cell_type": "code",
   "execution_count": 67,
   "metadata": {},
   "outputs": [
    {
     "name": "stdout",
     "output_type": "stream",
     "text": [
      "naive loss: 2.368553e+00 computed in 0.151540s\n",
      "vectorized loss: 2.368553e+00 computed in 0.000000s\n",
      "Loss difference: 0.000000\n",
      "Gradient difference: 36.192249\n"
     ]
    }
   ],
   "source": [
    "# Now that we have a naive implementation of the softmax loss function and its gradient,\n",
    "# implement a vectorized version in softmax_loss_vectorized.\n",
    "# The two versions should compute the same results, but the vectorized version should be\n",
    "# much faster.\n",
    "tic = time.time()\n",
    "loss_naive, grad_naive = softmax_loss_naive(W, X_dev, y_dev, 0.000005)\n",
    "toc = time.time()\n",
    "print('naive loss: %e computed in %fs' % (loss_naive, toc - tic))\n",
    "\n",
    "from cs231n.classifiers.softmax import softmax_loss_vectorized\n",
    "tic = time.time()\n",
    "loss_vectorized, grad_vectorized = softmax_loss_vectorized(W, X_dev, y_dev, 0.000005)\n",
    "toc = time.time()\n",
    "print('vectorized loss: %e computed in %fs' % (loss_vectorized, toc - tic))\n",
    "# As we did for the SVM, we use the Frobenius norm to compare the two versions\n",
    "# of the gradient.\n",
    "grad_difference = np.linalg.norm(grad_naive - grad_vectorized, ord='fro')\n",
    "print('Loss difference: %f' % np.abs(loss_naive - loss_vectorized))\n",
    "print('Gradient difference: %f' % grad_difference)"
   ]
  },
  {
   "cell_type": "code",
   "execution_count": 76,
   "metadata": {},
   "outputs": [
    {
     "name": "stdout",
     "output_type": "stream",
     "text": [
      "iteration 0 / 2000: loss 5.600791\n",
      "iteration 100 / 2000: loss 3.588407\n",
      "iteration 200 / 2000: loss 4.053004\n",
      "iteration 300 / 2000: loss 3.490271\n",
      "iteration 400 / 2000: loss 3.285017\n",
      "iteration 500 / 2000: loss 3.247723\n",
      "iteration 600 / 2000: loss 3.016505\n",
      "iteration 700 / 2000: loss 3.168241\n",
      "iteration 800 / 2000: loss 2.783762\n",
      "iteration 900 / 2000: loss 2.673458\n",
      "iteration 1000 / 2000: loss 3.232060\n",
      "iteration 1100 / 2000: loss 3.336143\n",
      "iteration 1200 / 2000: loss 2.821031\n",
      "iteration 1300 / 2000: loss 2.690782\n",
      "iteration 1400 / 2000: loss 2.868832\n",
      "iteration 1500 / 2000: loss 3.055579\n",
      "iteration 1600 / 2000: loss 3.223621\n",
      "iteration 1700 / 2000: loss 2.956829\n",
      "iteration 1800 / 2000: loss 2.943406\n",
      "iteration 1900 / 2000: loss 3.209654\n",
      "iteration 0 / 2000: loss 2.618018\n",
      "iteration 100 / 2000: loss 2.811352\n",
      "iteration 200 / 2000: loss 2.722420\n",
      "iteration 300 / 2000: loss 2.744470\n",
      "iteration 400 / 2000: loss 2.805155\n",
      "iteration 500 / 2000: loss 2.701749\n",
      "iteration 600 / 2000: loss 3.047992\n",
      "iteration 700 / 2000: loss 2.491621\n",
      "iteration 800 / 2000: loss 2.969790\n",
      "iteration 900 / 2000: loss 2.877566\n",
      "iteration 1000 / 2000: loss 2.519559\n",
      "iteration 1100 / 2000: loss 3.010379\n",
      "iteration 1200 / 2000: loss 2.814019\n",
      "iteration 1300 / 2000: loss 2.986526\n",
      "iteration 1400 / 2000: loss 2.939450\n",
      "iteration 1500 / 2000: loss 3.329712\n",
      "iteration 1600 / 2000: loss 3.147215\n",
      "iteration 1700 / 2000: loss 3.065034\n",
      "iteration 1800 / 2000: loss 3.244335\n",
      "iteration 1900 / 2000: loss 2.841037\n",
      "iteration 0 / 2000: loss 2.726445\n",
      "iteration 100 / 2000: loss 3.008788\n",
      "iteration 200 / 2000: loss 3.370798\n",
      "iteration 300 / 2000: loss 2.920732\n",
      "iteration 400 / 2000: loss 3.101170\n",
      "iteration 500 / 2000: loss 4.106559\n",
      "iteration 600 / 2000: loss 3.539504\n",
      "iteration 700 / 2000: loss 3.903543\n",
      "iteration 800 / 2000: loss 3.820530\n",
      "iteration 900 / 2000: loss 3.254435\n",
      "iteration 1000 / 2000: loss 3.392051\n",
      "iteration 1100 / 2000: loss 4.018711\n",
      "iteration 1200 / 2000: loss 5.119807\n",
      "iteration 1300 / 2000: loss 3.721237\n",
      "iteration 1400 / 2000: loss 4.935745\n",
      "iteration 1500 / 2000: loss 4.273535\n",
      "iteration 1600 / 2000: loss 4.792214\n",
      "iteration 1700 / 2000: loss 4.773137\n",
      "iteration 1800 / 2000: loss 4.702549\n",
      "iteration 1900 / 2000: loss 5.159205\n",
      "iteration 0 / 2000: loss 5.352378\n",
      "iteration 100 / 2000: loss 5.928325\n",
      "iteration 200 / 2000: loss 5.908078\n",
      "iteration 300 / 2000: loss 5.701732\n",
      "iteration 400 / 2000: loss 5.040556\n",
      "iteration 500 / 2000: loss 6.194489\n",
      "iteration 600 / 2000: loss 5.267308\n",
      "iteration 700 / 2000: loss 6.025139\n",
      "iteration 800 / 2000: loss 5.325894\n",
      "iteration 900 / 2000: loss 4.803298\n",
      "iteration 1000 / 2000: loss 5.103058\n",
      "iteration 1100 / 2000: loss 6.679373\n",
      "iteration 1200 / 2000: loss 6.328306\n",
      "iteration 1300 / 2000: loss 5.810696\n",
      "iteration 1400 / 2000: loss 5.996743\n",
      "iteration 1500 / 2000: loss 6.437124\n",
      "iteration 1600 / 2000: loss 8.560617\n",
      "iteration 1700 / 2000: loss 7.529307\n",
      "iteration 1800 / 2000: loss 8.387083\n",
      "iteration 1900 / 2000: loss 7.176115\n",
      "lr 1.000000e-07 reg 2.500000e+04 train accuracy: 0.306163 val accuracy: 0.295000\n",
      "lr 1.000000e-07 reg 5.000000e+04 train accuracy: 0.340633 val accuracy: 0.355000\n",
      "lr 5.000000e-07 reg 2.500000e+04 train accuracy: 0.378776 val accuracy: 0.374000\n",
      "lr 5.000000e-07 reg 5.000000e+04 train accuracy: 0.385429 val accuracy: 0.376000\n",
      "best validation accuracy achieved during cross-validation: 0.376000\n"
     ]
    }
   ],
   "source": [
    "# Use the validation set to tune hyperparameters (regularization strength and\n",
    "# learning rate). You should experiment with different ranges for the learning\n",
    "# rates and regularization strengths; if you are careful you should be able to\n",
    "# get a classification accuracy of over 0.35 on the validation set.\n",
    "from cs231n.classifiers import Softmax\n",
    "results = {}\n",
    "best_val = -1\n",
    "best_softmax = None\n",
    "learning_rates = [1e-7, 5e-7]\n",
    "regularization_strengths = [2.5e4, 5e4]\n",
    "\n",
    "################################################################################\n",
    "# TODO:                                                                        #\n",
    "# Use the validation set to set the learning rate and regularization strength. #\n",
    "# This should be identical to the validation that you did for the SVM; save    #\n",
    "# the best trained softmax classifer in best_softmax.                          #\n",
    "################################################################################\n",
    "softmax = Softmax()\n",
    "for lr in learning_rates:\n",
    "    for reg in regularization_strengths:\n",
    "        softmax.train(X_train, y_train, lr, reg, num_iters=2000, verbose=True)\n",
    "        y_train_pred = softmax.predict(X_train)\n",
    "        y_val_pred = softmax.predict(X_val)\n",
    "        train_accuracy = np.mean(y_train == y_train_pred)\n",
    "        val_accuracy = np.mean(y_val == y_val_pred)\n",
    "        if val_accuracy > best_val:\n",
    "            best_val = val_accuracy\n",
    "            best_softmax = softmax\n",
    "        results[(lr,reg)] = train_accuracy, val_accuracy\n",
    "################################################################################\n",
    "#                              END OF YOUR CODE                                #\n",
    "################################################################################\n",
    "    \n",
    "# Print out results.\n",
    "for lr, reg in sorted(results):\n",
    "    train_accuracy, val_accuracy = results[(lr, reg)]\n",
    "    print('lr %e reg %e train accuracy: %f val accuracy: %f' % (\n",
    "                lr, reg, train_accuracy, val_accuracy))\n",
    "    \n",
    "print('best validation accuracy achieved during cross-validation: %f' % best_val)"
   ]
  },
  {
   "cell_type": "code",
   "execution_count": 77,
   "metadata": {},
   "outputs": [
    {
     "name": "stdout",
     "output_type": "stream",
     "text": [
      "softmax on raw pixels final test set accuracy: 0.357000\n"
     ]
    }
   ],
   "source": [
    "# evaluate on test set\n",
    "# Evaluate the best softmax on test set\n",
    "y_test_pred = best_softmax.predict(X_test)\n",
    "test_accuracy = np.mean(y_test == y_test_pred)\n",
    "print('softmax on raw pixels final test set accuracy: %f' % (test_accuracy, ))"
   ]
  },
  {
   "cell_type": "markdown",
   "metadata": {},
   "source": [
    "**Inline Question** - *True or False*\n",
    "\n",
    "It's possible to add a new datapoint to a training set that would leave the SVM loss unchanged, but this is not the case with the Softmax classifier loss.\n",
    "\n",
    "*Your answer*: False\n",
    "\n",
    "*Your explanation*: Softmax will remain unchanged as the loss is sum of negative log of accurate class probability"
   ]
  },
  {
   "cell_type": "code",
   "execution_count": 78,
   "metadata": {},
   "outputs": [
    {
     "data": {
      "image/png": "[encoded data removed]",
      "text/plain": [
       "<Figure size 720x576 with 10 Axes>"
      ]
     },
     "metadata": {},
     "output_type": "display_data"
    }
   ],
   "source": [
    "# Visualize the learned weights for each class\n",
    "w = best_softmax.W[:-1,:] # strip out the bias\n",
    "w = w.reshape(32, 32, 3, 10)\n",
    "\n",
    "w_min, w_max = np.min(w), np.max(w)\n",
    "\n",
    "classes = ['plane', 'car', 'bird', 'cat', 'deer', 'dog', 'frog', 'horse', 'ship', 'truck']\n",
    "for i in range(10):\n",
    "    plt.subplot(2, 5, i + 1)\n",
    "    \n",
    "    # Rescale the weights to be between 0 and 255\n",
    "    wimg = 255.0 * (w[:, :, :, i].squeeze() - w_min) / (w_max - w_min)\n",
    "    plt.imshow(wimg.astype('uint8'))\n",
    "    plt.axis('off')\n",
    "    plt.title(classes[i])"
   ]
  }
 ],
 "metadata": {
  "kernelspec": {
   "display_name": "Python 3",
   "language": "python",
   "name": "python3"
  },
  "language_info": {
   "codemirror_mode": {
    "name": "ipython",
    "version": 3
   },
   "file_extension": ".py",
   "mimetype": "text/x-python",
   "name": "python",
   "nbconvert_exporter": "python",
   "pygments_lexer": "ipython3",
   "version": "3.6.5"
  }
 },
 "nbformat": 4,
 "nbformat_minor": 1
}
