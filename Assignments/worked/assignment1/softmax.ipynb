{
 "cells": [
  {
   "cell_type": "markdown",
   "metadata": {},
   "source": [
    "# Softmax exercise\n",
    "\n",
    "*Complete and hand in this completed worksheet (including its outputs and any supporting code outside of the worksheet) with your assignment submission. For more details see the [assignments page](http://vision.stanford.edu/teaching/cs231n/assignments.html) on the course website.*\n",
    "\n",
    "This exercise is analogous to the SVM exercise. You will:\n",
    "\n",
    "- implement a fully-vectorized **loss function** for the Softmax classifier\n",
    "- implement the fully-vectorized expression for its **analytic gradient**\n",
    "- **check your implementation** with numerical gradient\n",
    "- use a validation set to **tune the learning rate and regularization** strength\n",
    "- **optimize** the loss function with **SGD**\n",
    "- **visualize** the final learned weights\n"
   ]
  },
  {
   "cell_type": "code",
   "execution_count": 1,
   "metadata": {},
   "outputs": [],
   "source": [
    "import random\n",
    "import numpy as np\n",
    "from cs231n.data_utils import load_CIFAR10\n",
    "import matplotlib.pyplot as plt\n",
    "\n",
    "from __future__ import print_function\n",
    "\n",
    "%matplotlib inline\n",
    "plt.rcParams['figure.figsize'] = (10.0, 8.0) # set default size of plots\n",
    "plt.rcParams['image.interpolation'] = 'nearest'\n",
    "plt.rcParams['image.cmap'] = 'gray'\n",
    "\n",
    "# for auto-reloading extenrnal modules\n",
    "# see http://stackoverflow.com/questions/1907993/autoreload-of-modules-in-ipython\n",
    "%load_ext autoreload\n",
    "%autoreload 2"
   ]
  },
  {
   "cell_type": "code",
   "execution_count": 2,
   "metadata": {},
   "outputs": [
    {
     "name": "stdout",
     "output_type": "stream",
     "text": [
      "Train data shape:  (49000, 3073)\n",
      "Train labels shape:  (49000,)\n",
      "Validation data shape:  (1000, 3073)\n",
      "Validation labels shape:  (1000,)\n",
      "Test data shape:  (1000, 3073)\n",
      "Test labels shape:  (1000,)\n",
      "dev data shape:  (500, 3073)\n",
      "dev labels shape:  (500,)\n"
     ]
    }
   ],
   "source": [
    "def get_CIFAR10_data(num_training=49000, num_validation=1000, num_test=1000, num_dev=500):\n",
    "    \"\"\"\n",
    "    Load the CIFAR-10 dataset from disk and perform preprocessing to prepare\n",
    "    it for the linear classifier. These are the same steps as we used for the\n",
    "    SVM, but condensed to a single function.  \n",
    "    \"\"\"\n",
    "    # Load the raw CIFAR-10 data\n",
    "    cifar10_dir = 'cs231n/datasets/cifar-10-batches-py'\n",
    "    \n",
    "    X_train, y_train, X_test, y_test = load_CIFAR10(cifar10_dir)\n",
    "    \n",
    "    # subsample the data\n",
    "    mask = list(range(num_training, num_training + num_validation))\n",
    "    X_val = X_train[mask]\n",
    "    y_val = y_train[mask]\n",
    "    mask = list(range(num_training))\n",
    "    X_train = X_train[mask]\n",
    "    y_train = y_train[mask]\n",
    "    mask = list(range(num_test))\n",
    "    X_test = X_test[mask]\n",
    "    y_test = y_test[mask]\n",
    "    mask = np.random.choice(num_training, num_dev, replace=False)\n",
    "    X_dev = X_train[mask]\n",
    "    y_dev = y_train[mask]\n",
    "    \n",
    "    # Preprocessing: reshape the image data into rows\n",
    "    X_train = np.reshape(X_train, (X_train.shape[0], -1))\n",
    "    X_val = np.reshape(X_val, (X_val.shape[0], -1))\n",
    "    X_test = np.reshape(X_test, (X_test.shape[0], -1))\n",
    "    X_dev = np.reshape(X_dev, (X_dev.shape[0], -1))\n",
    "    \n",
    "    # Normalize the data: subtract the mean image\n",
    "    mean_image = np.mean(X_train, axis = 0)\n",
    "    X_train -= mean_image\n",
    "    X_val -= mean_image\n",
    "    X_test -= mean_image\n",
    "    X_dev -= mean_image\n",
    "    \n",
    "    # add bias dimension and transform into columns\n",
    "    X_train = np.hstack([X_train, np.ones((X_train.shape[0], 1))])\n",
    "    X_val = np.hstack([X_val, np.ones((X_val.shape[0], 1))])\n",
    "    X_test = np.hstack([X_test, np.ones((X_test.shape[0], 1))])\n",
    "    X_dev = np.hstack([X_dev, np.ones((X_dev.shape[0], 1))])\n",
    "    \n",
    "    return X_train, y_train, X_val, y_val, X_test, y_test, X_dev, y_dev\n",
    "\n",
    "\n",
    "# Cleaning up variables to prevent loading data multiple times (which may cause memory issue)\n",
    "try:\n",
    "   del X_train, y_train\n",
    "   del X_test, y_test\n",
    "   print('Clear previously loaded data.')\n",
    "except:\n",
    "   pass\n",
    "\n",
    "# Invoke the above function to get our data.\n",
    "X_train, y_train, X_val, y_val, X_test, y_test, X_dev, y_dev = get_CIFAR10_data()\n",
    "print('Train data shape: ', X_train.shape)\n",
    "print('Train labels shape: ', y_train.shape)\n",
    "print('Validation data shape: ', X_val.shape)\n",
    "print('Validation labels shape: ', y_val.shape)\n",
    "print('Test data shape: ', X_test.shape)\n",
    "print('Test labels shape: ', y_test.shape)\n",
    "print('dev data shape: ', X_dev.shape)\n",
    "print('dev labels shape: ', y_dev.shape)"
   ]
  },
  {
   "cell_type": "markdown",
   "metadata": {},
   "source": [
    "## Softmax Classifier\n",
    "\n",
    "Your code for this section will all be written inside **cs231n/classifiers/softmax.py**. \n"
   ]
  },
  {
   "cell_type": "code",
   "execution_count": 3,
   "metadata": {},
   "outputs": [
    {
     "name": "stdout",
     "output_type": "stream",
     "text": [
      "loss: 2.340501\n",
      "sanity check: 2.302585\n"
     ]
    }
   ],
   "source": [
    "# First implement the naive softmax loss function with nested loops.\n",
    "# Open the file cs231n/classifiers/softmax.py and implement the\n",
    "# softmax_loss_naive function.\n",
    "\n",
    "from cs231n.classifiers.softmax import softmax_loss_naive\n",
    "import time\n",
    "\n",
    "# Generate a random softmax weight matrix and use it to compute the loss.\n",
    "W = np.random.randn(3073, 10) * 0.0001\n",
    "loss, grad = softmax_loss_naive(W, X_dev, y_dev, 0.0)\n",
    "\n",
    "# As a rough sanity check, our loss should be something close to -log(0.1).\n",
    "print('loss: %f' % loss)\n",
    "print('sanity check: %f' % (-np.log(0.1)))"
   ]
  },
  {
   "cell_type": "markdown",
   "metadata": {},
   "source": [
    "## Inline Question 1:\n",
    "Why do we expect our loss to be close to -log(0.1)? Explain briefly.**\n",
    "\n",
    "**Your answer:** In CIFAR10 dataset, we have 10 different classes. By randoming Weight data, we have probability of getting 1  in 10 correct. As per information theory, loss is p(x)log(q(x)) which for every image would be -log(0.1)\n"
   ]
  },
  {
   "cell_type": "code",
   "execution_count": 4,
   "metadata": {},
   "outputs": [
    {
     "name": "stdout",
     "output_type": "stream",
     "text": [
      "numerical: 3.223496 analytic: 3.223496, relative error: 1.299025e-08\n",
      "numerical: 0.083439 analytic: 0.083439, relative error: 5.197124e-07\n",
      "numerical: -0.479245 analytic: -0.479245, relative error: 9.507317e-08\n",
      "numerical: 4.524731 analytic: 4.524731, relative error: 2.806921e-08\n",
      "numerical: -1.026720 analytic: -1.026720, relative error: 1.312700e-10\n",
      "numerical: -0.642995 analytic: -0.642995, relative error: 8.121981e-08\n",
      "numerical: -0.035116 analytic: -0.035116, relative error: 6.848770e-07\n",
      "numerical: 3.020895 analytic: 3.020895, relative error: 4.919674e-08\n",
      "numerical: -0.739123 analytic: -0.739123, relative error: 4.168934e-08\n",
      "numerical: -3.748025 analytic: -3.748025, relative error: 1.005106e-08\n",
      "numerical: 1.102866 analytic: 1.102865, relative error: 2.931326e-08\n",
      "numerical: 3.187808 analytic: 3.187808, relative error: 1.598818e-08\n",
      "numerical: 1.515402 analytic: 1.515402, relative error: 2.603368e-09\n",
      "numerical: 0.012941 analytic: 0.012941, relative error: 5.453793e-09\n",
      "numerical: 0.809862 analytic: 0.809862, relative error: 4.025868e-08\n",
      "numerical: -1.713573 analytic: -1.713573, relative error: 9.900983e-09\n",
      "numerical: -3.221969 analytic: -3.221969, relative error: 3.587924e-09\n",
      "numerical: -2.387987 analytic: -2.387987, relative error: 2.243906e-09\n",
      "numerical: -0.925134 analytic: -0.925134, relative error: 6.034922e-08\n",
      "numerical: -0.182314 analytic: -0.182314, relative error: 2.443801e-07\n"
     ]
    }
   ],
   "source": [
    "# Complete the implementation of softmax_loss_naive and implement a (naive)\n",
    "# version of the gradient that uses nested loops.\n",
    "loss, grad = softmax_loss_naive(W, X_dev, y_dev, 0.0)\n",
    "\n",
    "# As we did for the SVM, use numeric gradient checking as a debugging tool.\n",
    "# The numeric gradient should be close to the analytic gradient.\n",
    "from cs231n.gradient_check import grad_check_sparse\n",
    "f = lambda w: softmax_loss_naive(w, X_dev, y_dev, 0.0)[0]\n",
    "grad_numerical = grad_check_sparse(f, W, grad, 10)\n",
    "\n",
    "# similar to SVM case, do another gradient check with regularization\n",
    "loss, grad = softmax_loss_naive(W, X_dev, y_dev, 5e1)\n",
    "f = lambda w: softmax_loss_naive(w, X_dev, y_dev, 5e1)[0]\n",
    "grad_numerical = grad_check_sparse(f, W, grad, 10)"
   ]
  },
  {
   "cell_type": "code",
   "execution_count": 5,
   "metadata": {},
   "outputs": [
    {
     "name": "stdout",
     "output_type": "stream",
     "text": [
      "naive loss: 2.340501e+00 computed in 0.143125s\n",
      "vectorized loss: 2.340501e+00 computed in 0.000000s\n",
      "Loss difference: 0.000000\n",
      "Gradient difference: 0.000000\n"
     ]
    }
   ],
   "source": [
    "# Now that we have a naive implementation of the softmax loss function and its gradient,\n",
    "# implement a vectorized version in softmax_loss_vectorized.\n",
    "# The two versions should compute the same results, but the vectorized version should be\n",
    "# much faster.\n",
    "tic = time.time()\n",
    "loss_naive, grad_naive = softmax_loss_naive(W, X_dev, y_dev, 0.000005)\n",
    "toc = time.time()\n",
    "print('naive loss: %e computed in %fs' % (loss_naive, toc - tic))\n",
    "\n",
    "from cs231n.classifiers.softmax import softmax_loss_vectorized\n",
    "tic = time.time()\n",
    "loss_vectorized, grad_vectorized = softmax_loss_vectorized(W, X_dev, y_dev, 0.000005)\n",
    "toc = time.time()\n",
    "print('vectorized loss: %e computed in %fs' % (loss_vectorized, toc - tic))\n",
    "# As we did for the SVM, we use the Frobenius norm to compare the two versions\n",
    "# of the gradient.\n",
    "grad_difference = np.linalg.norm(grad_naive - grad_vectorized, ord='fro')\n",
    "print('Loss difference: %f' % np.abs(loss_naive - loss_vectorized))\n",
    "print('Gradient difference: %f' % grad_difference)"
   ]
  },
  {
   "cell_type": "code",
   "execution_count": 6,
   "metadata": {},
   "outputs": [
    {
     "name": "stdout",
     "output_type": "stream",
     "text": [
      "iteration 0 / 2000: loss 5.533290\n",
      "iteration 100 / 2000: loss 4.092666\n",
      "iteration 200 / 2000: loss 3.648154\n",
      "iteration 300 / 2000: loss 3.382264\n",
      "iteration 400 / 2000: loss 3.449654\n",
      "iteration 500 / 2000: loss 2.877977\n",
      "iteration 600 / 2000: loss 2.828031\n",
      "iteration 700 / 2000: loss 2.951160\n",
      "iteration 800 / 2000: loss 2.781098\n",
      "iteration 900 / 2000: loss 2.626104\n",
      "iteration 1000 / 2000: loss 2.956665\n",
      "iteration 1100 / 2000: loss 2.680402\n",
      "iteration 1200 / 2000: loss 2.629003\n",
      "iteration 1300 / 2000: loss 2.483522\n",
      "iteration 1400 / 2000: loss 2.493010\n",
      "iteration 1500 / 2000: loss 2.788920\n",
      "iteration 1600 / 2000: loss 2.568182\n",
      "iteration 1700 / 2000: loss 2.531448\n",
      "iteration 1800 / 2000: loss 2.326265\n",
      "iteration 1900 / 2000: loss 2.449236\n",
      "iteration 0 / 2000: loss 2.368231\n",
      "iteration 100 / 2000: loss 2.574365\n",
      "iteration 200 / 2000: loss 2.402104\n",
      "iteration 300 / 2000: loss 2.576018\n",
      "iteration 400 / 2000: loss 2.319998\n",
      "iteration 500 / 2000: loss 2.509326\n",
      "iteration 600 / 2000: loss 2.414534\n",
      "iteration 700 / 2000: loss 2.407546\n",
      "iteration 800 / 2000: loss 2.146234\n",
      "iteration 900 / 2000: loss 2.352897\n",
      "iteration 1000 / 2000: loss 2.398726\n",
      "iteration 1100 / 2000: loss 2.379259\n",
      "iteration 1200 / 2000: loss 2.291951\n",
      "iteration 1300 / 2000: loss 2.198311\n",
      "iteration 1400 / 2000: loss 2.516004\n",
      "iteration 1500 / 2000: loss 2.374471\n",
      "iteration 1600 / 2000: loss 2.283268\n",
      "iteration 1700 / 2000: loss 2.426655\n",
      "iteration 1800 / 2000: loss 2.420596\n",
      "iteration 1900 / 2000: loss 2.425105\n",
      "iteration 0 / 2000: loss 2.224995\n",
      "iteration 100 / 2000: loss 2.290238\n",
      "iteration 200 / 2000: loss 2.132771\n",
      "iteration 300 / 2000: loss 2.222230\n",
      "iteration 400 / 2000: loss 2.254822\n",
      "iteration 500 / 2000: loss 2.318939\n",
      "iteration 600 / 2000: loss 2.209575\n",
      "iteration 700 / 2000: loss 2.194504\n",
      "iteration 800 / 2000: loss 2.043992\n",
      "iteration 900 / 2000: loss 2.169177\n",
      "iteration 1000 / 2000: loss 2.043568\n",
      "iteration 1100 / 2000: loss 2.031094\n",
      "iteration 1200 / 2000: loss 2.043565\n",
      "iteration 1300 / 2000: loss 1.880054\n",
      "iteration 1400 / 2000: loss 1.942075\n",
      "iteration 1500 / 2000: loss 1.970960\n",
      "iteration 1600 / 2000: loss 2.010263\n",
      "iteration 1700 / 2000: loss 2.041620\n",
      "iteration 1800 / 2000: loss 2.035109\n",
      "iteration 1900 / 2000: loss 1.897285\n",
      "iteration 0 / 2000: loss 2.113172\n",
      "iteration 100 / 2000: loss 1.917340\n",
      "iteration 200 / 2000: loss 2.098028\n",
      "iteration 300 / 2000: loss 1.944478\n",
      "iteration 400 / 2000: loss 1.984538\n",
      "iteration 500 / 2000: loss 1.872865\n",
      "iteration 600 / 2000: loss 1.782114\n",
      "iteration 700 / 2000: loss 1.849196\n",
      "iteration 800 / 2000: loss 1.864471\n",
      "iteration 900 / 2000: loss 1.862294\n",
      "iteration 1000 / 2000: loss 2.034413\n",
      "iteration 1100 / 2000: loss 2.103475\n",
      "iteration 1200 / 2000: loss 1.881670\n",
      "iteration 1300 / 2000: loss 2.057621\n",
      "iteration 1400 / 2000: loss 2.032604\n",
      "iteration 1500 / 2000: loss 1.956741\n",
      "iteration 1600 / 2000: loss 1.821303\n",
      "iteration 1700 / 2000: loss 2.029494\n",
      "iteration 1800 / 2000: loss 1.746754\n",
      "iteration 1900 / 2000: loss 1.854885\n",
      "lr 1.000000e-07 reg 2.500000e+04 train accuracy: 0.263163 val accuracy: 0.258000\n",
      "lr 1.000000e-07 reg 5.000000e+04 train accuracy: 0.293041 val accuracy: 0.285000\n",
      "lr 5.000000e-07 reg 2.500000e+04 train accuracy: 0.341449 val accuracy: 0.335000\n",
      "lr 5.000000e-07 reg 5.000000e+04 train accuracy: 0.369673 val accuracy: 0.350000\n",
      "best validation accuracy achieved during cross-validation: 0.350000\n"
     ]
    }
   ],
   "source": [
    "# Use the validation set to tune hyperparameters (regularization strength and\n",
    "# learning rate). You should experiment with different ranges for the learning\n",
    "# rates and regularization strengths; if you are careful you should be able to\n",
    "# get a classification accuracy of over 0.35 on the validation set.\n",
    "from cs231n.classifiers import Softmax\n",
    "results = {}\n",
    "best_val = -1\n",
    "best_softmax = None\n",
    "learning_rates = [1e-7, 5e-7]\n",
    "regularization_strengths = [2.5e4, 5e4]\n",
    "\n",
    "################################################################################\n",
    "# TODO:                                                                        #\n",
    "# Use the validation set to set the learning rate and regularization strength. #\n",
    "# This should be identical to the validation that you did for the SVM; save    #\n",
    "# the best trained softmax classifer in best_softmax.                          #\n",
    "################################################################################\n",
    "softmax = Softmax()\n",
    "for lr in learning_rates:\n",
    "    for reg in regularization_strengths:\n",
    "        softmax.train(X_train, y_train, lr, reg, num_iters=2000, verbose=True)\n",
    "        y_train_pred = softmax.predict(X_train)\n",
    "        y_val_pred = softmax.predict(X_val)\n",
    "        train_accuracy = np.mean(y_train == y_train_pred)\n",
    "        val_accuracy = np.mean(y_val == y_val_pred)\n",
    "        if val_accuracy > best_val:\n",
    "            best_val = val_accuracy\n",
    "            best_softmax = softmax\n",
    "        results[(lr,reg)] = train_accuracy, val_accuracy\n",
    "################################################################################\n",
    "#                              END OF YOUR CODE                                #\n",
    "################################################################################\n",
    "    \n",
    "# Print out results.\n",
    "for lr, reg in sorted(results):\n",
    "    train_accuracy, val_accuracy = results[(lr, reg)]\n",
    "    print('lr %e reg %e train accuracy: %f val accuracy: %f' % (\n",
    "                lr, reg, train_accuracy, val_accuracy))\n",
    "    \n",
    "print('best validation accuracy achieved during cross-validation: %f' % best_val)"
   ]
  },
  {
   "cell_type": "code",
   "execution_count": 8,
   "metadata": {},
   "outputs": [
    {
     "name": "stdout",
     "output_type": "stream",
     "text": [
      "softmax on raw pixels final test set accuracy: 0.344000\n"
     ]
    }
   ],
   "source": [
    "# evaluate on test set\n",
    "# Evaluate the best softmax on test set\n",
    "y_test_pred = best_softmax.predict(X_test)\n",
    "test_accuracy = np.mean(y_test == y_test_pred)\n",
    "print('softmax on raw pixels final test set accuracy: %f' % (test_accuracy, ))"
   ]
  },
  {
   "cell_type": "markdown",
   "metadata": {},
   "source": [
    "**Inline Question** - *True or False*\n",
    "\n",
    "It's possible to add a new datapoint to a training set that would leave the SVM loss unchanged, but this is not the case with the Softmax classifier loss.\n",
    "\n",
    "*Your answer*: False\n",
    "\n",
    "*Your explanation*: Softmax will remain unchanged as the loss is sum of negative log of accurate class probability"
   ]
  },
  {
   "cell_type": "code",
   "execution_count": 9,
   "metadata": {},
   "outputs": [
    {
     "data": {
      "image/png": "[encoded data removed]",
      "text/plain": [
       "<Figure size 432x288 with 10 Axes>"
      ]
     },
     "metadata": {},
     "output_type": "display_data"
    }
   ],
   "source": [
    "# Visualize the learned weights for each class\n",
    "w = best_softmax.W[:-1,:] # strip out the bias\n",
    "w = w.reshape(32, 32, 3, 10)\n",
    "\n",
    "w_min, w_max = np.min(w), np.max(w)\n",
    "\n",
    "classes = ['plane', 'car', 'bird', 'cat', 'deer', 'dog', 'frog', 'horse', 'ship', 'truck']\n",
    "for i in range(10):\n",
    "    plt.subplot(2, 5, i + 1)\n",
    "    \n",
    "    # Rescale the weights to be between 0 and 255\n",
    "    wimg = 255.0 * (w[:, :, :, i].squeeze() - w_min) / (w_max - w_min)\n",
    "    plt.imshow(wimg.astype('uint8'))\n",
    "    plt.axis('off')\n",
    "    plt.title(classes[i])"
   ]
  },
  {
   "cell_type": "code",
   "execution_count": null,
   "metadata": {},
   "outputs": [],
   "source": []
  }
 ],
 "metadata": {
  "kernelspec": {
   "display_name": "Python 3",
   "language": "python",
   "name": "python3"
  },
  "language_info": {
   "codemirror_mode": {
    "name": "ipython",
    "version": 3
   },
   "file_extension": ".py",
   "mimetype": "text/x-python",
   "name": "python",
   "nbconvert_exporter": "python",
   "pygments_lexer": "ipython3",
   "version": "3.6.5"
  }
 },
 "nbformat": 4,
 "nbformat_minor": 1
}
